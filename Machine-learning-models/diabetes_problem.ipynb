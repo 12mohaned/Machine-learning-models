{
 "cells": [
  {
   "cell_type": "code",
   "execution_count": 8,
   "metadata": {},
   "outputs": [],
   "source": [
    "import numpy as np\n",
    "import seaborn as sns\n",
    "import pandas as pd\n",
    "from sklearn.neighbors import KNeighborsClassifier\n",
    "from sklearn.model_selection import train_test_split\n",
    "from sklearn.metrics import mean_squared_error\n",
    "from sklearn.metrics import classification_report, confusion_matrix\n",
    "from sklearn.linear_model import Lasso\n",
    "import matplotlib as plt\n",
    "import os"
   ]
  },
  {
   "cell_type": "code",
   "execution_count": 9,
   "metadata": {},
   "outputs": [],
   "source": [
    "df = pd.read_csv(os.path.join(r\"C:\\Users\\mohan\\Machine-learning-models\\datasets\",'diabetes.csv'))"
   ]
  },
  {
   "cell_type": "code",
   "execution_count": 10,
   "metadata": {},
   "outputs": [],
   "source": [
    "#cleaning and processing the data\n",
    "features = df.drop(\"Outcome\", axis=1)\n",
    "target   = df[\"Outcome\"]\n",
    "X_train, X_test, y_train, y_test = train_test_split(features, target, test_size = 0.2, random_state = 42)"
   ]
  },
  {
   "cell_type": "code",
   "execution_count": 11,
   "metadata": {},
   "outputs": [],
   "source": [
    "#fitting the model\n",
    "knn_classifier = KNeighborsClassifier(n_neighbors = 6)\n",
    "knn_classifier.fit(X_train, y_train)\n",
    "y_pred = knn_classifier.predict(X_test)"
   ]
  },
  {
   "cell_type": "code",
   "execution_count": 12,
   "metadata": {},
   "outputs": [
    {
     "data": {
      "image/png": "[encoded data removed]",
      "text/plain": [
       "<Figure size 432x288 with 1 Axes>"
      ]
     },
     "metadata": {},
     "output_type": "display_data"
    }
   ],
   "source": [
    "#highlighting the importance of each feature using lasso Regressor  \n",
    "regessor = Lasso(alpha = 0.1)\n",
    "coeffs = regessor.fit(X_train, y_train).coef_\n",
    "data = {\"pergenancy\":coeffs[0], \"glucose\":coeffs[1], \"Bloodpressure\":coeffs[2], \"Skin Thickness\":coeffs[3], \n",
    "        \"Insulin\":coeffs[4], \"BMI\":coeffs[5], \"DiabetesPedigreeFunction\":coeffs[6], \"Age\":coeffs[7]}\n",
    "dataframe = pd.DataFrame(data, columns = [\"feature\",\"weight\"])\n",
    "sns.set()\n",
    "ax = sns.barplot(\n",
    "        data=dataframe,\n",
    "        palette=['blue', 'red', 'yellow', 'grey'],\n",
    "        saturation=0.4,\n",
    "    )"
   ]
  },
  {
   "cell_type": "code",
   "execution_count": null,
   "metadata": {},
   "outputs": [],
   "source": []
  },
  {
   "cell_type": "code",
   "execution_count": null,
   "metadata": {},
   "outputs": [],
   "source": []
  },
  {
   "cell_type": "code",
   "execution_count": null,
   "metadata": {},
   "outputs": [],
   "source": []
  }
 ],
 "metadata": {
  "kernelspec": {
   "display_name": "Python 3",
   "language": "python",
   "name": "python3"
  },
  "language_info": {
   "codemirror_mode": {
    "name": "ipython",
    "version": 3
   },
   "file_extension": ".py",
   "mimetype": "text/x-python",
   "name": "python",
   "nbconvert_exporter": "python",
   "pygments_lexer": "ipython3",
   "version": "3.7.4"
  }
 },
 "nbformat": 4,
 "nbformat_minor": 4
}
