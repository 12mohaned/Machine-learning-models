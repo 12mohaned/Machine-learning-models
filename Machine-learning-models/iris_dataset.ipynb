{
 "cells": [
  {
   "cell_type": "code",
   "execution_count": 34,
   "metadata": {},
   "outputs": [],
   "source": [
    "from sklearn import datasets \n",
    "import pandas as pd\n",
    "import matplotlib as plt\n",
    "import seaborn as sns\n",
    "from sklearn.neighbors import KNeighborsClassifier\n",
    "from sklearn.model_selection import train_test_split"
   ]
  },
  {
   "cell_type": "code",
   "execution_count": 35,
   "metadata": {},
   "outputs": [],
   "source": [
    "\"\"\" Iris Dataset Exercise where the model predict the type of the iris flower and print model accuracy \"\"\"\n",
    "iris = datasets.load_iris()"
   ]
  },
  {
   "cell_type": "code",
   "execution_count": 36,
   "metadata": {},
   "outputs": [
    {
     "data": {
      "text/plain": [
       "KNeighborsClassifier(n_neighbors=9)"
      ]
     },
     "execution_count": 36,
     "metadata": {},
     "output_type": "execute_result"
    }
   ],
   "source": [
    "#Training the KNN Model \n",
    "features = pd.DataFrame(iris['data'])\n",
    "predictor = pd.DataFrame(iris['target'])\n",
    "KNN_classifier = KNeighborsClassifier(n_neighbors = 9)\n",
    "predictor\n",
    "x_train,x_test, y_train,y_test = train_test_split(features ,predictor ,test_size = 0.2, stratify = predictor, random_state = 42)\n",
    "KNN_classifier.fit(x_train, y_train[0])\n"
   ]
  },
  {
   "cell_type": "code",
   "execution_count": 21,
   "metadata": {},
   "outputs": [
    {
     "data": {
      "text/plain": [
       "0.98"
      ]
     },
     "execution_count": 21,
     "metadata": {},
     "output_type": "execute_result"
    }
   ],
   "source": [
    "#Testing the Model\n",
    "test = [\n",
    "        [5.9, 3. , 5.1, 1.8],[6.9, 3. , 3.1, 2.8], \n",
    "        [8.9, 2. , 2.1, 4.8],[1.9, 1. , 4.1, 1.8],\n",
    "        [6.9, 1. , 3.1, 2.8],[3.9, 2. , 1.1, 3.8], \n",
    "        [2.9, 4. , 4.1, 5.8],[2.9, 1. , 3.1, 6.8], \n",
    "        [3.9, 5. , 1.1, 2.8],[3.9, 2. , 1.1, 3.8]\n",
    "       ]\n",
    "Predictiontesting = KNN_classifier.predict(test)\n",
    "KNN_classifier.score(features,predictor )"
   ]
  },
  {
   "cell_type": "code",
   "execution_count": 22,
   "metadata": {},
   "outputs": [
    {
     "data": {
      "text/plain": [
       "<seaborn.axisgrid.FacetGrid at 0x5071d30>"
      ]
     },
     "execution_count": 22,
     "metadata": {},
     "output_type": "execute_result"
    },
    {
     "data": {
      "image/png": "[encoded data removed]",
      "text/plain": [
       "<Figure size 360x360 with 1 Axes>"
      ]
     },
     "metadata": {
      "needs_background": "light"
     },
     "output_type": "display_data"
    }
   ],
   "source": [
    "#Visualizing the model \n",
    "df = sns.load_dataset(\"iris\")\n",
    "sns.catplot(x = \"species\", y = \"petal_width\", data = df )"
   ]
  },
  {
   "cell_type": "code",
   "execution_count": null,
   "metadata": {},
   "outputs": [],
   "source": []
  },
  {
   "cell_type": "code",
   "execution_count": null,
   "metadata": {},
   "outputs": [],
   "source": []
  },
  {
   "cell_type": "code",
   "execution_count": null,
   "metadata": {},
   "outputs": [],
   "source": []
  }
 ],
 "metadata": {
  "kernelspec": {
   "display_name": "Python 3",
   "language": "python",
   "name": "python3"
  },
  "language_info": {
   "codemirror_mode": {
    "name": "ipython",
    "version": 3
   },
   "file_extension": ".py",
   "mimetype": "text/x-python",
   "name": "python",
   "nbconvert_exporter": "python",
   "pygments_lexer": "ipython3",
   "version": "3.7.4"
  }
 },
 "nbformat": 4,
 "nbformat_minor": 4
}
