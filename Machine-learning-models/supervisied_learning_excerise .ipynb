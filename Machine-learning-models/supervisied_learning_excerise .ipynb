{
 "cells": [
  {
   "cell_type": "code",
   "execution_count": 81,
   "metadata": {},
   "outputs": [],
   "source": [
    "from sklearn import datasets \n",
    "import pandas as pd\n",
    "import matplotlib as plt\n",
    "import seaborn as sns\n",
    "from sklearn.neighbors import KNeighborsClassifier"
   ]
  },
  {
   "cell_type": "code",
   "execution_count": 82,
   "metadata": {},
   "outputs": [],
   "source": [
    "\"\"\" Iris Dataset Exercise \"\"\"\n",
    "iris = datasets.load_iris()"
   ]
  },
  {
   "cell_type": "code",
   "execution_count": 83,
   "metadata": {},
   "outputs": [
    {
     "data": {
      "text/plain": [
       "KNeighborsClassifier(n_neighbors=6)"
      ]
     },
     "execution_count": 83,
     "metadata": {},
     "output_type": "execute_result"
    }
   ],
   "source": [
    "#Training the KNN Model \n",
    "features = pd.DataFrame(iris['data'])\n",
    "predictor = pd.DataFrame(iris['target'])\n",
    "KNN_classifier = KNeighborsClassifier(n_neighbors = 6)\n",
    "KNN_classifier.fit(training_set_features, training_set_predictor[0])\n"
   ]
  },
  {
   "cell_type": "code",
   "execution_count": 84,
   "metadata": {},
   "outputs": [
    {
     "data": {
      "text/plain": [
       "0.9733333333333334"
      ]
     },
     "execution_count": 84,
     "metadata": {},
     "output_type": "execute_result"
    }
   ],
   "source": [
    "#Testing the Model\n",
    "test = [\n",
    "        [5.9, 3. , 5.1, 1.8],[6.9, 3. , 3.1, 2.8], \n",
    "        [8.9, 2. , 2.1, 4.8],[1.9, 1. , 4.1, 1.8],\n",
    "        [6.9, 1. , 3.1, 2.8],[3.9, 2. , 1.1, 3.8], \n",
    "        [2.9, 4. , 4.1, 5.8],[2.9, 1. , 3.1, 6.8], \n",
    "        [3.9, 5. , 1.1, 2.8],[3.9, 2. , 1.1, 3.8]\n",
    "       ]\n",
    "Predictiontesting = KNN_classifier.predict(test)\n",
    "KNN_classifier.score(features,predictor )"
   ]
  },
  {
   "cell_type": "code",
   "execution_count": 89,
   "metadata": {},
   "outputs": [
    {
     "data": {
      "text/plain": [
       "<seaborn.axisgrid.FacetGrid at 0x15780910>"
      ]
     },
     "execution_count": 89,
     "metadata": {},
     "output_type": "execute_result"
    },
    {
     "data": {
      "image/png": "[encoded data removed]",
      "text/plain": [
       "<Figure size 360x360 with 1 Axes>"
      ]
     },
     "metadata": {
      "needs_background": "light"
     },
     "output_type": "display_data"
    }
   ],
   "source": [
    "#Visualizing the model \n",
    "df = sns.load_dataset(\"iris\")\n",
    "sns.catplot(x = \"species\", y = \"petal_width\", data = df )"
   ]
  },
  {
   "cell_type": "code",
   "execution_count": null,
   "metadata": {},
   "outputs": [],
   "source": []
  }
 ],
 "metadata": {
  "kernelspec": {
   "display_name": "Python 3",
   "language": "python",
   "name": "python3"
  },
  "language_info": {
   "codemirror_mode": {
    "name": "ipython",
    "version": 3
   },
   "file_extension": ".py",
   "mimetype": "text/x-python",
   "name": "python",
   "nbconvert_exporter": "python",
   "pygments_lexer": "ipython3",
   "version": "3.7.4"
  }
 },
 "nbformat": 4,
 "nbformat_minor": 4
}
